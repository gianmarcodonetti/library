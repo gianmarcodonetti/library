{
 "cells": [
  {
   "cell_type": "code",
   "execution_count": 1,
   "metadata": {
    "ExecuteTime": {
     "end_time": "2017-03-23T20:41:59.064000",
     "start_time": "2017-03-23T20:41:54.264000"
    },
    "collapsed": false,
    "run_control": {
     "frozen": false,
     "read_only": false
    }
   },
   "outputs": [
    {
     "name": "stdout",
     "output_type": "stream",
     "text": [
      "\n",
      "Please, type the first string: asdsssss\n",
      "\n",
      "Please, type the second string: addddss\n"
     ]
    }
   ],
   "source": [
    "s1 = raw_input(\"\\nPlease, type the first string: \")\n",
    "s2 = raw_input(\"\\nPlease, type the second string: \")"
   ]
  },
  {
   "cell_type": "code",
   "execution_count": 2,
   "metadata": {
    "ExecuteTime": {
     "end_time": "2017-03-23T20:42:00.353000",
     "start_time": "2017-03-23T20:42:00.340000"
    },
    "collapsed": true,
    "run_control": {
     "frozen": false,
     "read_only": false
    }
   },
   "outputs": [],
   "source": [
    "def dot_matrix(s1, s2, char = '\\\\'):\n",
    "    matrix = []\n",
    "    r, c = len(s1), len(s2)\n",
    "    for i in range(0, r):\n",
    "        matrix.append('')\n",
    "        for j in range(0, c):\n",
    "            matrix[i] += (' ')\n",
    "            \n",
    "    for i in range(0, r):\n",
    "        for j in range(0, c):\n",
    "            if s1[i] == s2[j]:\n",
    "                new = matrix[i][:j] + char + matrix[i][j+1:]\n",
    "                matrix[i] = new\n",
    "    \n",
    "    return matrix\n",
    "\n",
    "def print_dot_matrix(matrix, s1, s2):\n",
    "    print(' ', s2)\n",
    "    r = len(s1)\n",
    "    for i in range(0, r):\n",
    "        print(s1[i], matrix[i])    "
   ]
  },
  {
   "cell_type": "code",
   "execution_count": 6,
   "metadata": {
    "collapsed": false,
    "run_control": {
     "frozen": false,
     "read_only": false
    }
   },
   "outputs": [
    {
     "name": "stdout",
     "output_type": "stream",
     "text": [
      "  aaggagagagagagagagaaag\n",
      "a \\\\  \\ \\ \\ \\ \\ \\ \\ \\\\\\ \n",
      "a \\\\  \\ \\ \\ \\ \\ \\ \\ \\\\\\ \n",
      "a \\\\  \\ \\ \\ \\ \\ \\ \\ \\\\\\ \n",
      "g   \\\\ \\ \\ \\ \\ \\ \\ \\   \\\n",
      "g   \\\\ \\ \\ \\ \\ \\ \\ \\   \\\n",
      "a \\\\  \\ \\ \\ \\ \\ \\ \\ \\\\\\ \n",
      "g   \\\\ \\ \\ \\ \\ \\ \\ \\   \\\n",
      "a \\\\  \\ \\ \\ \\ \\ \\ \\ \\\\\\ \n",
      "a \\\\  \\ \\ \\ \\ \\ \\ \\ \\\\\\ \n",
      "g   \\\\ \\ \\ \\ \\ \\ \\ \\   \\\n",
      "g   \\\\ \\ \\ \\ \\ \\ \\ \\   \\\n",
      "a \\\\  \\ \\ \\ \\ \\ \\ \\ \\\\\\ \n",
      "g   \\\\ \\ \\ \\ \\ \\ \\ \\   \\\n",
      "a \\\\  \\ \\ \\ \\ \\ \\ \\ \\\\\\ \n",
      "g   \\\\ \\ \\ \\ \\ \\ \\ \\   \\\n",
      "a \\\\  \\ \\ \\ \\ \\ \\ \\ \\\\\\ \n",
      "g   \\\\ \\ \\ \\ \\ \\ \\ \\   \\\n",
      "g   \\\\ \\ \\ \\ \\ \\ \\ \\   \\\n",
      "a \\\\  \\ \\ \\ \\ \\ \\ \\ \\\\\\ \n",
      "g   \\\\ \\ \\ \\ \\ \\ \\ \\   \\\n",
      "a \\\\  \\ \\ \\ \\ \\ \\ \\ \\\\\\ \n",
      "g   \\\\ \\ \\ \\ \\ \\ \\ \\   \\\n"
     ]
    }
   ],
   "source": [
    "print_dot_matrix(dot_matrix(s1, s2), s1, s2)"
   ]
  },
  {
   "cell_type": "code",
   "execution_count": 18,
   "metadata": {
    "ExecuteTime": {
     "end_time": "2017-03-23T20:50:49.677000",
     "start_time": "2017-03-23T20:50:49.665000"
    },
    "collapsed": false,
    "run_control": {
     "frozen": false,
     "read_only": false
    }
   },
   "outputs": [
    {
     "data": {
      "text/plain": [
       "sys.version_info(major=2, minor=7, micro=13, releaselevel='final', serial=0)"
      ]
     },
     "execution_count": 18,
     "metadata": {},
     "output_type": "execute_result"
    }
   ],
   "source": [
    "import sys \n",
    "\n",
    "sys.version_info"
   ]
  },
  {
   "cell_type": "code",
   "execution_count": null,
   "metadata": {
    "collapsed": true,
    "run_control": {
     "frozen": false,
     "read_only": false
    }
   },
   "outputs": [],
   "source": []
  },
  {
   "cell_type": "code",
   "execution_count": null,
   "metadata": {
    "collapsed": true,
    "run_control": {
     "frozen": false,
     "read_only": false
    }
   },
   "outputs": [],
   "source": []
  },
  {
   "cell_type": "code",
   "execution_count": 24,
   "metadata": {
    "ExecuteTime": {
     "end_time": "2017-03-23T21:01:09.817000",
     "start_time": "2017-03-23T21:01:09.801000"
    },
    "collapsed": false,
    "run_control": {
     "frozen": false,
     "read_only": false
    }
   },
   "outputs": [
    {
     "name": "stdout",
     "output_type": "stream",
     "text": [
      "Obj Function of initial matrix: 727\n"
     ]
    }
   ],
   "source": [
    "from random import randint\n",
    "import matplotlib.pyplot as plt\n",
    "from matplotlib.colors import ListedColormap\n",
    "import colorsys\n",
    "import numpy as np\n",
    "import operator\n",
    "\n",
    "\n",
    "Q = 30\n",
    "P = 6\n",
    "A, B = -2, 2\n",
    "\n",
    "range_width = B - A + 1\n",
    "\n",
    "def obj_function(matrix):\n",
    "    total = 0\n",
    "    for i in range(len(matrix) - 1):\n",
    "        for j in range(len(matrix[i]) - 1):\n",
    "            total += abs(matrix[i][j] - matrix[i][j+1]) + abs(matrix[i][j] - matrix[i+1][j]) +  abs(matrix[i][j] - matrix[i+1][j+1])\n",
    "    return total\n",
    "\n",
    "def newAnswer(a=-2, b=2):\n",
    "    return randint(a, b)\n",
    "\n",
    "# Generate a random matrix of answers\n",
    "matrix = []\n",
    "for i in range(Q):\n",
    "    matrix.append([])\n",
    "    for j in range(P):\n",
    "        matrix[i].append(newAnswer(A, B))\n",
    "\n",
    "first_matrix = matrix\n",
    "print \"Obj Function of initial matrix:\", obj_function(first_matrix)"
   ]
  },
  {
   "cell_type": "code",
   "execution_count": 40,
   "metadata": {
    "ExecuteTime": {
     "end_time": "2017-03-23T21:04:48.036000",
     "start_time": "2017-03-23T21:04:48.021000"
    },
    "collapsed": false,
    "run_control": {
     "frozen": false,
     "read_only": false
    }
   },
   "outputs": [
    {
     "name": "stdout",
     "output_type": "stream",
     "text": [
      "Obj Function of initial matrix: 727\n",
      "Obj Function of matrix sorted by row goodness: 689\n"
     ]
    }
   ],
   "source": [
    "# Try to sort in some way the matrix ============================================================\n",
    "# Sort the rows:\n",
    "# how to do it? By value of a single row (from bad rows to good rows)\n",
    "# or by similarity between rows\n",
    "# From bad to good\n",
    "\n",
    "def sort_matrix_by_row_goodness(matrix):\n",
    "    row_goodness = {}\n",
    "    for r in range(len(matrix)):\n",
    "        good_el = sum([x**2 for x in matrix[r] if x > 0])\n",
    "        bad_el = sum([x**2 for x in matrix[r] if x < 0])\n",
    "        row_goodness[r] = bad_el + good_el\n",
    "    sorted_row_good = sorted(row_goodness.items(), key=operator.itemgetter(1))\n",
    "\n",
    "    matrix_row_sorted = []\n",
    "    for i in range(len(sorted_row_good)):\n",
    "        row = sorted_row_good[i][0]\n",
    "        matrix_row_sorted.append(matrix[row])\n",
    "\n",
    "    return np.array(matrix_row_sorted)\n",
    "\n",
    "matrix_row_goodness = sort_by_row_goodness(first_matrix)\n",
    "print \"Obj Function of initial matrix:\", obj_function(first_matrix)\n",
    "print \"Obj Function of matrix sorted by row goodness:\", obj_function(matrix_row_goodness)"
   ]
  },
  {
   "cell_type": "code",
   "execution_count": 41,
   "metadata": {
    "ExecuteTime": {
     "end_time": "2017-03-23T21:06:10.798000",
     "start_time": "2017-03-23T21:06:10.767000"
    },
    "collapsed": false,
    "run_control": {
     "frozen": false,
     "read_only": false
    }
   },
   "outputs": [
    {
     "name": "stdout",
     "output_type": "stream",
     "text": [
      "Obj Function of initial matrix: 727\n",
      "Obj Function of matrix sorted by row goodness: 689\n",
      "Obj Function of matrix sorted by row goodness and col variance: 663\n",
      "Obj Function of matrix sorted by col variance: 684\n"
     ]
    }
   ],
   "source": [
    "# Sort the columns\n",
    "# From the low varying to the high varying\n",
    "def list_variance(lis):\n",
    "    var = 0\n",
    "    for i in range(len(lis)-1):\n",
    "        var += np.abs(lis[i] - lis[i+1])\n",
    "    return var\n",
    "\n",
    "def sort_matrix_by_col_variance(matrix):\n",
    "    matrix_t = np.array(matrix).transpose()\n",
    "    columns_variance = {}\n",
    "    for c in range(len(matrix_t)):\n",
    "        columns_variance[c] = list_variance(matrix_t[c])\n",
    "    sorted_col_var = sorted(columns_variance.items(), key=operator.itemgetter(1))\n",
    "\n",
    "    matrix_t_sorted = []\n",
    "    for i in range(len(sorted_col_var)):\n",
    "        col = sorted_col_var[i][0]\n",
    "        matrix_t_sorted.append(matrix_t[col])\n",
    "    return np.array(matrix_t_sorted).transpose()\n",
    "\n",
    "matrix_row_goodness_col_variance = sort_matrix_by_col_variance(matrix_row_goodness)\n",
    "matrix_col_variance = sort_matrix_by_col_variance(first_matrix)\n",
    "\n",
    "print \"Obj Function of initial matrix:\", obj_function(first_matrix)\n",
    "print \"Obj Function of matrix sorted by row goodness:\", obj_function(matrix_row_goodness)\n",
    "print \"Obj Function of matrix sorted by row goodness and col variance:\", obj_function(matrix_row_goodness_col_variance)\n",
    "print \"Obj Function of matrix sorted by col variance:\", obj_function(matrix_col_variance)"
   ]
  },
  {
   "cell_type": "code",
   "execution_count": 44,
   "metadata": {
    "ExecuteTime": {
     "end_time": "2017-03-23T21:23:43.726000",
     "start_time": "2017-03-23T21:23:43.710000"
    },
    "collapsed": false,
    "run_control": {
     "frozen": false,
     "read_only": false
    }
   },
   "outputs": [
    {
     "name": "stdout",
     "output_type": "stream",
     "text": [
      "Obj Function of initial matrix: 727\n",
      "Obj Function of matrix sorted by row goodness: 689\n",
      "Obj Function of matrix sorted by row goodness and col variance: 663\n",
      "Obj Function of matrix sorted by col variance: 684\n",
      "Obj Function of matrix sorted by col goodness: 707\n",
      "Obj Function of matrix sorted by row goodness and col goodness: 682\n"
     ]
    }
   ],
   "source": [
    "# Sort in the same way of the rows\n",
    "def sort_matrix_by_col_goodness(matrix):\n",
    "    col_goodness = {}\n",
    "    matrix_t =  np.array(matrix).transpose()\n",
    "    for c in range(len(matrix_t)):\n",
    "        good_el = sum([x**2 for x in matrix_t[c] if x > 0])\n",
    "        bad_el = sum([x**5 for x in matrix_t[c] if x < 0])\n",
    "        col_goodness[c] = sum(matrix_t[c]) + bad_el + good_el\n",
    "    sorted_col_good = sorted(col_goodness.items(), key=operator.itemgetter(1))\n",
    "\n",
    "    matrix_col_sorted = []\n",
    "    for i in range(len(sorted_col_good)):\n",
    "        col = sorted_col_good[i][0]\n",
    "        matrix_col_sorted.append(matrix_t[col])\n",
    "    return np.array(matrix_col_sorted).transpose()\n",
    "\n",
    "matrix_row_goodness_col_goodness = sort_matrix_by_col_goodness(matrix_row_goodness)\n",
    "matrix_col_goodness = sort_matrix_by_col_goodness(first_matrix)\n",
    "\n",
    "print \"Obj Function of initial matrix:\", obj_function(first_matrix)\n",
    "print \"Obj Function of matrix sorted by row goodness:\", obj_function(matrix_row_goodness)\n",
    "print \"Obj Function of matrix sorted by row goodness and col variance:\", obj_function(matrix_row_goodness_col_variance)\n",
    "print \"Obj Function of matrix sorted by col variance:\", obj_function(matrix_col_variance)\n",
    "print \"Obj Function of matrix sorted by col goodness:\", obj_function(matrix_col_goodness)\n",
    "print \"Obj Function of matrix sorted by row goodness and col goodness:\", obj_function(matrix_row_goodness_col_goodness)"
   ]
  },
  {
   "cell_type": "code",
   "execution_count": 46,
   "metadata": {
    "ExecuteTime": {
     "end_time": "2017-03-23T21:25:10.335000",
     "start_time": "2017-03-23T21:25:09.772000"
    },
    "collapsed": false,
    "run_control": {
     "frozen": false,
     "read_only": false
    }
   },
   "outputs": [
    {
     "data": {
      "image/png": "[encoded data removed]",
      "text/plain": [
       "<matplotlib.figure.Figure at 0x7869278>"
      ]
     },
     "metadata": {},
     "output_type": "display_data"
    }
   ],
   "source": [
    "final_matrix = matrix_row_goodness_col_goodness\n",
    "\n",
    "# Plot something ============================================================\n",
    "# Create a mapping for the colors and the values\n",
    "HSV_tuples = [(x*1.0/range_width, 0.5, 0.5) for x in range(range_width)]\n",
    "RGB_tuples = map(lambda x: colorsys.hsv_to_rgb(*x), HSV_tuples)\n",
    "color_map = {}\n",
    "for i in range(A, B+1):\n",
    "    color_map[i] = HSV_tuples[i-A]\n",
    "\n",
    "# Do the plot\n",
    "x_axis = [i for i in range(P)]\n",
    "y_axis = [i for i in range(Q)]\n",
    "fig = plt.figure(num=None, figsize=(P/3, Q/5), dpi=80, facecolor='w', edgecolor='k')\n",
    "for r in range(len(final_matrix)):\n",
    "    for c in range(len(final_matrix[r])):\n",
    "        plt.scatter(x_axis[c], y_axis[r], linewidths=10, color=color_map[final_matrix[r][c]])\n",
    "plt.grid()\n",
    "plt.axis([x_axis[0]-0.5, x_axis[-1]+0.5, y_axis[0]-1, y_axis[-1]+1])\n",
    "plt.show()"
   ]
  },
  {
   "cell_type": "code",
   "execution_count": 48,
   "metadata": {
    "ExecuteTime": {
     "end_time": "2017-03-23T21:27:41.781000",
     "start_time": "2017-03-23T21:27:40.906000"
    },
    "collapsed": false,
    "run_control": {
     "frozen": false,
     "read_only": false
    }
   },
   "outputs": [
    {
     "data": {
      "image/png": "[encoded data removed]",
      "text/plain": [
       "<matplotlib.figure.Figure at 0x8a42908>"
      ]
     },
     "metadata": {},
     "output_type": "display_data"
    }
   ],
   "source": [
    "data = [first_matrix, matrix_row_goodness, matrix_row_goodness_col_variance, matrix_col_variance,\n",
    "        matrix_col_goodness, matrix_row_goodness_col_goodness]\n",
    "titles = ['random matrix', 'row goodness', 'row goodness\\ncol variance', 'col variance', 'col goodness', 'row and col\\ngoodness']\n",
    "# Discrete color scheme\n",
    "cMap = ListedColormap(['white', 'green', 'blue', 'red'])\n",
    "colors = ['#0000ff', '#0080ff', '#00ffff', '#00ff80', '#00ff00']\n",
    "my_cmap = ListedColormap(colors)\n",
    "\n",
    "# Maybe this one is better =======================================================================\n",
    "fig, axes = plt.subplots(figsize=(P*1.9, Q), dpi=80, facecolor='w', edgecolor='k', nrows=1, ncols=len(data))\n",
    "\n",
    "for dat, title, ax in zip(data, titles, axes.flat):\n",
    "    im = ax.imshow(dat, interpolation='nearest', cmap=my_cmap)\n",
    "    ax.set_title(title, size = 10)\n",
    "\n",
    "fig.subplots_adjust(right=0.8)\n",
    "cbar_ax = fig.add_axes([0.85, 0.4, 0.05, 0.2])\n",
    "cbar = fig.colorbar(im, cax=cbar_ax)\n",
    "cbar.ax.invert_yaxis()\n",
    "cbar.ax.get_yaxis().set_ticks([])\n",
    "for j, lab in enumerate(['$-2$','$-1$','$0$','$1$', '$2$']):\n",
    "    cbar.ax.text(.5, (2 * j + 1) / 10.0, lab, ha='center', va='center')\n",
    "cbar.ax.get_yaxis().labelpad = 15\n",
    "cbar.ax.set_ylabel('value w.r.t the question norm', rotation=270)\n",
    "\n",
    "plt.show()"
   ]
  },
  {
   "cell_type": "code",
   "execution_count": 58,
   "metadata": {
    "ExecuteTime": {
     "end_time": "2017-03-23T21:35:43.863000",
     "start_time": "2017-03-23T21:35:43.847000"
    },
    "collapsed": false
   },
   "outputs": [
    {
     "name": "stdout",
     "output_type": "stream",
     "text": [
      "Obj Function of matrix sorted by row and col goodness: 682\n",
      "Obj Function of matrix sorted by dendogram: 684\n"
     ]
    }
   ],
   "source": [
    "from scipy.cluster import hierarchy\n",
    "\n",
    "def sort_by_dendogram(matrix):\n",
    "    Z = hierarchy.linkage(matrix_row_goodness_col_goodness)\n",
    "    dn = hierarchy.dendrogram(Z)\n",
    "    sorted_by_dn = dn['leaves']\n",
    "\n",
    "    matrix_dn_sorted = []\n",
    "    for i in range(len(sorted_by_dn)):\n",
    "        row = sorted_by_dn[i]\n",
    "        matrix_dn_sorted.append(matrix[row])\n",
    "\n",
    "    return np.array(matrix_dn_sorted)\n",
    "\n",
    "matrix_dn_sorted = sort_by_dendogram(matrix_row_goodness_col_goodness)\n",
    "\n",
    "print \"Obj Function of matrix sorted by row and col goodness:\", obj_function(matrix_row_goodness_col_goodness)\n",
    "print \"Obj Function of matrix sorted by dendogram:\", obj_function(matrix_dn_sorted)"
   ]
  },
  {
   "cell_type": "code",
   "execution_count": null,
   "metadata": {
    "collapsed": true
   },
   "outputs": [],
   "source": []
  },
  {
   "cell_type": "code",
   "execution_count": null,
   "metadata": {
    "collapsed": true
   },
   "outputs": [],
   "source": []
  },
  {
   "cell_type": "code",
   "execution_count": null,
   "metadata": {
    "collapsed": true
   },
   "outputs": [],
   "source": []
  }
 ],
 "metadata": {
  "anaconda-cloud": {},
  "kernelspec": {
   "display_name": "Python [default]",
   "language": "python",
   "name": "python2"
  },
  "language_info": {
   "codemirror_mode": {
    "name": "ipython",
    "version": 2
   },
   "file_extension": ".py",
   "mimetype": "text/x-python",
   "name": "python",
   "nbconvert_exporter": "python",
   "pygments_lexer": "ipython2",
   "version": "2.7.13"
  },
  "toc": {
   "colors": {
    "hover_highlight": "#DAA520",
    "running_highlight": "#FF0000",
    "selected_highlight": "#FFD700"
   },
   "moveMenuLeft": true,
   "nav_menu": {
    "height": "12px",
    "width": "252px"
   },
   "navigate_menu": true,
   "number_sections": true,
   "sideBar": true,
   "threshold": 4,
   "toc_cell": false,
   "toc_section_display": "block",
   "toc_window_display": false
  }
 },
 "nbformat": 4,
 "nbformat_minor": 1
}
