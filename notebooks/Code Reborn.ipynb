{
 "cells": [
  {
   "cell_type": "code",
   "execution_count": 4,
   "metadata": {
    "collapsed": false
   },
   "outputs": [
    {
     "name": "stdout",
     "output_type": "stream",
     "text": [
      "\n",
      "Please, type the first string: aaaggagaaggagagaggagag\n",
      "\n",
      "Please, type the second string: aaggagagagagagagagaaag\n"
     ]
    }
   ],
   "source": [
    "s1 = input(\"\\nPlease, type the first string: \")\n",
    "s2 = input(\"\\nPlease, type the second string: \")"
   ]
  },
  {
   "cell_type": "code",
   "execution_count": 5,
   "metadata": {
    "collapsed": true
   },
   "outputs": [],
   "source": [
    "def dot_matrix(s1, s2, char = '\\\\'):\n",
    "    matrix = []\n",
    "    r, c = len(s1), len(s2)\n",
    "    for i in range(0, r):\n",
    "        matrix.append('')\n",
    "        for j in range(0, c):\n",
    "            matrix[i] += (' ')\n",
    "            \n",
    "    for i in range(0, r):\n",
    "        for j in range(0, c):\n",
    "            if s1[i] == s2[j]:\n",
    "                new = matrix[i][:j] + char + matrix[i][j+1:]\n",
    "                matrix[i] = new\n",
    "    \n",
    "    return matrix\n",
    "\n",
    "def print_dot_matrix(matrix, s1, s2):\n",
    "    print(' ', s2)\n",
    "    r = len(s1)\n",
    "    for i in range(0, r):\n",
    "        print(s1[i], matrix[i])    "
   ]
  },
  {
   "cell_type": "code",
   "execution_count": 6,
   "metadata": {
    "collapsed": false
   },
   "outputs": [
    {
     "name": "stdout",
     "output_type": "stream",
     "text": [
      "  aaggagagagagagagagaaag\n",
      "a \\\\  \\ \\ \\ \\ \\ \\ \\ \\\\\\ \n",
      "a \\\\  \\ \\ \\ \\ \\ \\ \\ \\\\\\ \n",
      "a \\\\  \\ \\ \\ \\ \\ \\ \\ \\\\\\ \n",
      "g   \\\\ \\ \\ \\ \\ \\ \\ \\   \\\n",
      "g   \\\\ \\ \\ \\ \\ \\ \\ \\   \\\n",
      "a \\\\  \\ \\ \\ \\ \\ \\ \\ \\\\\\ \n",
      "g   \\\\ \\ \\ \\ \\ \\ \\ \\   \\\n",
      "a \\\\  \\ \\ \\ \\ \\ \\ \\ \\\\\\ \n",
      "a \\\\  \\ \\ \\ \\ \\ \\ \\ \\\\\\ \n",
      "g   \\\\ \\ \\ \\ \\ \\ \\ \\   \\\n",
      "g   \\\\ \\ \\ \\ \\ \\ \\ \\   \\\n",
      "a \\\\  \\ \\ \\ \\ \\ \\ \\ \\\\\\ \n",
      "g   \\\\ \\ \\ \\ \\ \\ \\ \\   \\\n",
      "a \\\\  \\ \\ \\ \\ \\ \\ \\ \\\\\\ \n",
      "g   \\\\ \\ \\ \\ \\ \\ \\ \\   \\\n",
      "a \\\\  \\ \\ \\ \\ \\ \\ \\ \\\\\\ \n",
      "g   \\\\ \\ \\ \\ \\ \\ \\ \\   \\\n",
      "g   \\\\ \\ \\ \\ \\ \\ \\ \\   \\\n",
      "a \\\\  \\ \\ \\ \\ \\ \\ \\ \\\\\\ \n",
      "g   \\\\ \\ \\ \\ \\ \\ \\ \\   \\\n",
      "a \\\\  \\ \\ \\ \\ \\ \\ \\ \\\\\\ \n",
      "g   \\\\ \\ \\ \\ \\ \\ \\ \\   \\\n"
     ]
    }
   ],
   "source": [
    "print_dot_matrix(dot_matrix(s1, s2), s1, s2)"
   ]
  },
  {
   "cell_type": "code",
   "execution_count": null,
   "metadata": {
    "collapsed": true
   },
   "outputs": [],
   "source": []
  },
  {
   "cell_type": "code",
   "execution_count": null,
   "metadata": {
    "collapsed": true
   },
   "outputs": [],
   "source": []
  },
  {
   "cell_type": "code",
   "execution_count": null,
   "metadata": {
    "collapsed": true
   },
   "outputs": [],
   "source": []
  },
  {
   "cell_type": "code",
   "execution_count": 7,
   "metadata": {
    "collapsed": false
   },
   "outputs": [
    {
     "data": {
      "text/plain": [
       "[[1, -2, -1, -2, -2, 2],\n",
       " [-2, 0, 2, -1, -2, -2],\n",
       " [2, 2, 2, 1, 2, -1],\n",
       " [1, 2, -2, -2, 1, -1],\n",
       " [1, -1, 0, -2, 0, -2],\n",
       " [2, 2, 1, 2, 0, 0],\n",
       " [-2, 0, 1, 0, 0, 0],\n",
       " [1, 1, 2, -1, -2, -1],\n",
       " [-1, -2, 1, 1, -1, 1],\n",
       " [2, 1, 2, 0, 2, 2],\n",
       " [-1, 1, -1, -1, 2, 0],\n",
       " [0, 0, 0, 2, -1, 2],\n",
       " [-1, -1, -1, 1, -1, -2],\n",
       " [0, 1, -1, -2, 2, 0],\n",
       " [2, 2, -2, 2, -2, -2],\n",
       " [2, -2, -2, 2, 2, -2],\n",
       " [0, -1, 1, 1, -1, 2],\n",
       " [2, 1, -1, 1, 0, 0],\n",
       " [-2, 0, 0, 0, 0, 2],\n",
       " [1, 0, 0, 2, -2, 2],\n",
       " [-1, 2, -2, -1, 2, 0],\n",
       " [-1, -1, 0, 0, 0, 0],\n",
       " [2, -2, -1, -1, -2, 2],\n",
       " [-2, -1, 1, 1, 2, -2],\n",
       " [1, -2, 2, -2, 2, 1],\n",
       " [2, -1, 0, 0, 0, -1],\n",
       " [0, -2, 1, 0, -1, 1],\n",
       " [2, 1, 1, 0, 2, 1],\n",
       " [-1, 1, 1, 1, -1, -2],\n",
       " [0, 0, 0, -2, -2, -1]]"
      ]
     },
     "execution_count": 7,
     "metadata": {},
     "output_type": "execute_result"
    }
   ],
   "source": [
    "from random import randint\n",
    "import matplotlib.pyplot as plt\n",
    "from matplotlib.colors import ListedColormap\n",
    "#import colorsys\n",
    "import numpy as np\n",
    "import operator\n",
    "\n",
    "\n",
    "Q = 30\n",
    "P = 6\n",
    "A, B = -2, 2\n",
    "\n",
    "range_width = B - A + 1\n",
    "\n",
    "def newAnswer(a=-2, b=2):\n",
    "    return randint(a, b)\n",
    "\n",
    "# Generate a random matrix of answers\n",
    "matrix = []\n",
    "for i in range(Q):\n",
    "    matrix.append([])\n",
    "    for j in range(P):\n",
    "        matrix[i].append(newAnswer(A, B))\n",
    "\n",
    "first_matrix = matrix\n",
    "first_matrix"
   ]
  },
  {
   "cell_type": "code",
   "execution_count": 8,
   "metadata": {
    "collapsed": false
   },
   "outputs": [
    {
     "data": {
      "text/plain": [
       "[[-2, 0, 2, -1, -2, -2],\n",
       " [1, -2, -1, -2, -2, 2],\n",
       " [2, 2, -2, 2, -2, -2],\n",
       " [2, -2, -2, 2, 2, -2],\n",
       " [0, 0, 0, -2, -2, -1],\n",
       " [1, -1, 0, -2, 0, -2],\n",
       " [1, 2, -2, -2, 1, -1],\n",
       " [2, -2, -1, -1, -2, 2],\n",
       " [-2, -1, 1, 1, 2, -2],\n",
       " [1, -2, 2, -2, 2, 1],\n",
       " [-1, -1, -1, 1, -1, -2],\n",
       " [-2, 0, 1, 0, 0, 0],\n",
       " [-1, -2, 1, 1, -1, 1],\n",
       " [0, -2, 1, 0, -1, 1],\n",
       " [-1, 1, 1, 1, -1, -2],\n",
       " [1, 1, 2, -1, -2, -1],\n",
       " [0, 1, -1, -2, 2, 0],\n",
       " [-2, 0, 0, 0, 0, 2],\n",
       " [-1, 2, -2, -1, 2, 0],\n",
       " [1, 0, 0, 2, -2, 2],\n",
       " [-1, -1, 0, 0, 0, 0],\n",
       " [-1, 1, -1, -1, 2, 0],\n",
       " [2, -1, 0, 0, 0, -1],\n",
       " [0, -1, 1, 1, -1, 2],\n",
       " [2, 1, -1, 1, 0, 0],\n",
       " [0, 0, 0, 2, -1, 2],\n",
       " [2, 1, 1, 0, 2, 1],\n",
       " [2, 2, 1, 2, 0, 0],\n",
       " [2, 2, 2, 1, 2, -1],\n",
       " [2, 1, 2, 0, 2, 2]]"
      ]
     },
     "execution_count": 8,
     "metadata": {},
     "output_type": "execute_result"
    }
   ],
   "source": [
    "# Try to sort in some way the matrix ============================================================\n",
    "# Sort the rows:\n",
    "# how to do it? By value of a single row (from bad rows to good rows)\n",
    "# or by similarity between rows\n",
    "# From bad to good\n",
    "row_goodness = {}\n",
    "for r in range(len(matrix)):\n",
    "    good_el = sum([x**2 for x in matrix[r] if x > 0])\n",
    "    bad_el = sum([x**5 for x in matrix[r] if x < 0])\n",
    "    row_goodness[r] = sum(matrix[r]) + bad_el + good_el\n",
    "sorted_row_good = sorted(row_goodness.items(), key=operator.itemgetter(1))\n",
    "\n",
    "matrix_row_sorted = []\n",
    "for i in range(len(sorted_row_good)):\n",
    "    row = sorted_row_good[i][0]\n",
    "    matrix_row_sorted.append(matrix[row])\n",
    "\n",
    "matrix = matrix_row_sorted\n",
    "matrix"
   ]
  },
  {
   "cell_type": "code",
   "execution_count": 9,
   "metadata": {
    "collapsed": false
   },
   "outputs": [
    {
     "data": {
      "text/plain": [
       "array([[ 2, -2, -1,  0, -2, -2],\n",
       "       [-1,  1, -2, -2, -2,  2],\n",
       "       [-2,  2,  2,  2, -2, -2],\n",
       "       [-2,  2,  2, -2,  2, -2],\n",
       "       [ 0,  0, -2,  0, -2, -1],\n",
       "       [ 0,  1, -2, -1,  0, -2],\n",
       "       [-2,  1, -2,  2,  1, -1],\n",
       "       [-1,  2, -1, -2, -2,  2],\n",
       "       [ 1, -2,  1, -1,  2, -2],\n",
       "       [ 2,  1, -2, -2,  2,  1],\n",
       "       [-1, -1,  1, -1, -1, -2],\n",
       "       [ 1, -2,  0,  0,  0,  0],\n",
       "       [ 1, -1,  1, -2, -1,  1],\n",
       "       [ 1,  0,  0, -2, -1,  1],\n",
       "       [ 1, -1,  1,  1, -1, -2],\n",
       "       [ 2,  1, -1,  1, -2, -1],\n",
       "       [-1,  0, -2,  1,  2,  0],\n",
       "       [ 0, -2,  0,  0,  0,  2],\n",
       "       [-2, -1, -1,  2,  2,  0],\n",
       "       [ 0,  1,  2,  0, -2,  2],\n",
       "       [ 0, -1,  0, -1,  0,  0],\n",
       "       [-1, -1, -1,  1,  2,  0],\n",
       "       [ 0,  2,  0, -1,  0, -1],\n",
       "       [ 1,  0,  1, -1, -1,  2],\n",
       "       [-1,  2,  1,  1,  0,  0],\n",
       "       [ 0,  0,  2,  0, -1,  2],\n",
       "       [ 1,  2,  0,  1,  2,  1],\n",
       "       [ 1,  2,  2,  2,  0,  0],\n",
       "       [ 2,  2,  1,  2,  2, -1],\n",
       "       [ 2,  2,  0,  1,  2,  2]])"
      ]
     },
     "execution_count": 9,
     "metadata": {},
     "output_type": "execute_result"
    }
   ],
   "source": [
    "# Sort the columns\n",
    "# From the low varying to the high varying\n",
    "def ComputeVariance(lis):\n",
    "    var = 0\n",
    "    for i in range(len(lis)-1):\n",
    "        var += np.abs(lis[i] - lis[i+1])\n",
    "    return var\n",
    "\n",
    "matrix_t = np.array(matrix).transpose()\n",
    "columns_variance = {}\n",
    "for c in range(len(matrix_t)):\n",
    "    columns_variance[c] = ComputeVariance(matrix_t[c])\n",
    "sorted_col_var = sorted(columns_variance.items(), key=operator.itemgetter(1))\n",
    "\n",
    "matrix_t_sorted = []\n",
    "for i in range(len(sorted_col_var)):\n",
    "    col = sorted_col_var[i][0]\n",
    "    matrix_t_sorted.append(matrix_t[col])\n",
    "# Now I can replace the original matrix with the new one, sorted for the columns\n",
    "matrix = np.array(matrix_t_sorted).transpose()\n",
    "matrix"
   ]
  },
  {
   "cell_type": "code",
   "execution_count": 11,
   "metadata": {
    "collapsed": false
   },
   "outputs": [
    {
     "data": {
      "text/plain": [
       "array([[-2, -2,  0, -1,  2, -2],\n",
       "       [ 2, -2, -2, -2, -1,  1],\n",
       "       [-2, -2,  2,  2, -2,  2],\n",
       "       [-2,  2, -2,  2, -2,  2],\n",
       "       [-1, -2,  0, -2,  0,  0],\n",
       "       [-2,  0, -1, -2,  0,  1],\n",
       "       [-1,  1,  2, -2, -2,  1],\n",
       "       [ 2, -2, -2, -1, -1,  2],\n",
       "       [-2,  2, -1,  1,  1, -2],\n",
       "       [ 1,  2, -2, -2,  2,  1],\n",
       "       [-2, -1, -1,  1, -1, -1],\n",
       "       [ 0,  0,  0,  0,  1, -2],\n",
       "       [ 1, -1, -2,  1,  1, -1],\n",
       "       [ 1, -1, -2,  0,  1,  0],\n",
       "       [-2, -1,  1,  1,  1, -1],\n",
       "       [-1, -2,  1, -1,  2,  1],\n",
       "       [ 0,  2,  1, -2, -1,  0],\n",
       "       [ 2,  0,  0,  0,  0, -2],\n",
       "       [ 0,  2,  2, -1, -2, -1],\n",
       "       [ 2, -2,  0,  2,  0,  1],\n",
       "       [ 0,  0, -1,  0,  0, -1],\n",
       "       [ 0,  2,  1, -1, -1, -1],\n",
       "       [-1,  0, -1,  0,  0,  2],\n",
       "       [ 2, -1, -1,  1,  1,  0],\n",
       "       [ 0,  0,  1,  1, -1,  2],\n",
       "       [ 2, -1,  0,  2,  0,  0],\n",
       "       [ 1,  2,  1,  0,  1,  2],\n",
       "       [ 0,  0,  2,  2,  1,  2],\n",
       "       [-1,  2,  2,  1,  2,  2],\n",
       "       [ 2,  2,  1,  0,  2,  2]])"
      ]
     },
     "execution_count": 11,
     "metadata": {},
     "output_type": "execute_result"
    }
   ],
   "source": [
    "# Sort in the same way of the rows\n",
    "col_goodness = {}\n",
    "matrix_t =  np.array(matrix).transpose()\n",
    "for c in range(len(matrix_t)):\n",
    "    good_el = sum([x**2 for x in matrix_t[c] if x > 0])\n",
    "    bad_el = sum([x**5 for x in matrix_t[c] if x < 0])\n",
    "    col_goodness[c] = sum(matrix_t[c]) + bad_el + good_el\n",
    "sorted_col_good = sorted(col_goodness.items(), key=operator.itemgetter(1))\n",
    "\n",
    "matrix_col_sorted = []\n",
    "for i in range(len(sorted_col_good)):\n",
    "    col = sorted_col_good[i][0]\n",
    "    matrix_col_sorted.append(matrix_t[col])\n",
    "matrix_col_sorted = np.array(matrix_col_sorted).transpose()\n",
    "matrix_col_sorted"
   ]
  },
  {
   "cell_type": "code",
   "execution_count": 19,
   "metadata": {
    "collapsed": false
   },
   "outputs": [
    {
     "data": {
      "image/png": "[encoded data removed]",
      "text/plain": [
       "<matplotlib.figure.Figure at 0x1b6e2e994a8>"
      ]
     },
     "metadata": {},
     "output_type": "display_data"
    }
   ],
   "source": [
    "# Plot something ============================================================\n",
    "# Create a mapping for the colors and the values\n",
    "HSV_tuples = [(x*1.0/range_width, 0.5, 0.5) for x in range(range_width)]\n",
    "RGB_tuples = map(lambda x: colorsys.hsv_to_rgb(*x), HSV_tuples)\n",
    "color_map = {}\n",
    "for i in range(A, B+1):\n",
    "    color_map[i] = HSV_tuples[i-A]\n",
    "\n",
    "# Do the plot\n",
    "x_axis = [i for i in range(P)]\n",
    "y_axis = [i for i in range(Q)]\n",
    "fig = plt.figure(num=None, figsize=(P/3, Q/5), dpi=80, facecolor='w', edgecolor='k')\n",
    "for r in range(len(matrix)):\n",
    "    for c in range(len(matrix[r])):\n",
    "        plt.scatter(x_axis[c], y_axis[r], linewidths=10, color=color_map[matrix[r][c]])\n",
    "plt.grid()\n",
    "plt.axis([x_axis[0]-0.5, x_axis[-1]+0.5, y_axis[0]-1, y_axis[-1]+1])\n",
    "plt.show()"
   ]
  },
  {
   "cell_type": "code",
   "execution_count": 57,
   "metadata": {
    "collapsed": false
   },
   "outputs": [
    {
     "data": {
      "image/png": "[encoded data removed]",
      "text/plain": [
       "<matplotlib.figure.Figure at 0x1b6e2eaa4e0>"
      ]
     },
     "metadata": {},
     "output_type": "display_data"
    }
   ],
   "source": [
    "data = [first_matrix, matrix_row_sorted, matrix, matrix_col_sorted]\n",
    "titles = ['Initial random matrix', 'After row sorting', 'Final sorted matrix', 'After col sorting']\n",
    "# Discrete color scheme\n",
    "cMap = ListedColormap(['white', 'green', 'blue', 'red'])\n",
    "colors = ['#0000ff', '#0080ff', '#00ffff', '#00ff80', '#00ff00']\n",
    "my_cmap = ListedColormap(colors)\n",
    "\n",
    "# Maybe this one is better =======================================================================\n",
    "fig, axes = plt.subplots(figsize=(P*1.9, Q), dpi=80, facecolor='w', edgecolor='k', nrows=1, ncols=4)\n",
    "\n",
    "for dat, title, ax in zip(data, titles, axes.flat):\n",
    "    im = ax.imshow(dat, interpolation='nearest', cmap=my_cmap)\n",
    "    ax.set_title(title, size = 10)\n",
    "\n",
    "fig.subplots_adjust(right=0.8)\n",
    "cbar_ax = fig.add_axes([0.85, 0.4, 0.05, 0.2])\n",
    "cbar = fig.colorbar(im, cax=cbar_ax)\n",
    "cbar.ax.invert_yaxis()\n",
    "cbar.ax.get_yaxis().set_ticks([])\n",
    "for j, lab in enumerate(['$-2$','$-1$','$0$','$1$', '$2$']):\n",
    "    cbar.ax.text(.5, (2 * j + 1) / 10.0, lab, ha='center', va='center')\n",
    "cbar.ax.get_yaxis().labelpad = 15\n",
    "cbar.ax.set_ylabel('value w.r.t the question norm', rotation=270)\n",
    "\n",
    "plt.show()"
   ]
  }
 ],
 "metadata": {
  "anaconda-cloud": {},
  "kernelspec": {
   "display_name": "Python [default]",
   "language": "python",
   "name": "python3"
  },
  "language_info": {
   "codemirror_mode": {
    "name": "ipython",
    "version": 3
   },
   "file_extension": ".py",
   "mimetype": "text/x-python",
   "name": "python",
   "nbconvert_exporter": "python",
   "pygments_lexer": "ipython3",
   "version": "3.5.2"
  }
 },
 "nbformat": 4,
 "nbformat_minor": 1
}
